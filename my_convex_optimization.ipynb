{
 "cells": [
  {
   "cell_type": "code",
   "execution_count": 1,
   "id": "0dc95813",
   "metadata": {},
   "outputs": [],
   "source": [
    "import matplotlib.pyplot as plt\n",
    "import numpy as np\n",
    "from scipy.optimize import minimize_scalar"
   ]
  },
  {
   "cell_type": "code",
   "execution_count": 2,
   "id": "ac379068",
   "metadata": {},
   "outputs": [],
   "source": [
    "def gradient_descent(f, f_prime, start, learning_rate=0.1, num_iterations=100):\n",
    "    x = start\n",
    "    for _ in range(num_iterations):\n",
    "        x -= learning_rate * f_prime(x)\n",
    "\n",
    "    return x"
   ]
  },
  {
   "cell_type": "code",
   "execution_count": 3,
   "id": "72699ddb",
   "metadata": {},
   "outputs": [],
   "source": [
    "from scipy.optimize import linprog \n",
    "def solve_linear_problem(A, b, c):\n",
    "    result = linprog(c=c, A_ub=A, b_ub=b)\n",
    "    return round(result.fun, 1), result.x"
   ]
  },
  {
   "cell_type": "code",
   "execution_count": 4,
   "id": "ce100a24",
   "metadata": {},
   "outputs": [],
   "source": [
    "def print_a_function(f, values):\n",
    "    # Generate x values from -10 to 10 with 100 steps in between\n",
    "    x = np.linspace(-10, 10, 100)\n",
    "    # Evaluate the function f at the x values\n",
    "    y = f(x)\n",
    "    \n",
    "    # Create a plot for the function\n",
    "    fig, ax = plt.subplots()\n",
    "    ax.plot(x, y)\n",
    "    \n",
    "    # Add markers at the given values\n",
    "    ax.scatter(values, f(values), color='red')\n",
    "    \n",
    "    # Set the axis labels\n",
    "    ax.set_xlabel('x')\n",
    "    ax.set_ylabel('f(x)')\n",
    "    \n",
    "    # Display the plot\n",
    "    plt.show()"
   ]
  },
  {
   "cell_type": "code",
   "execution_count": 5,
   "id": "2ce21054",
   "metadata": {},
   "outputs": [],
   "source": [
    "def find_root_bisection(f, min_val, max_val, tol=1e-6, max_iter=100):\n",
    "    f_min = f(min_val)\n",
    "    f_max = f(max_val)\n",
    "\n",
    "    for i in range(max_iter):\n",
    "        mid_val = (min_val + max_val) / 2\n",
    "        f_mid = f(mid_val)\n",
    "        if abs(f_mid) < tol:\n",
    "            return mid_val\n",
    "        if f_mid * f_min < 0:\n",
    "            max_val = mid_val\n",
    "            f_max = f_mid\n",
    "        else:\n",
    "            min_val = mid_val\n",
    "            f_min = f_mid\n",
    "    return mid_val"
   ]
  },
  {
   "cell_type": "code",
   "execution_count": 6,
   "id": "6f56394f",
   "metadata": {},
   "outputs": [],
   "source": [
    "def find_root_newton_raphson(f, f_deriv, x_0, tol=1e-6, the_max_iter=1000):\n",
    "    \n",
    "    x_n = x_0\n",
    "    for i in range(the_max_iter):\n",
    "        f_val = f(x_n)\n",
    "        f_deriv_val = f_deriv(x_n)\n",
    "        x_n1 = x_n - f_val / f_deriv_val\n",
    "        if abs(x_n1 - x_n) < tol:\n",
    "            return x_n1\n",
    "        x_n = x_n1\n",
    "    raise ValueError(\"Max number of iterations exceeded.\")"
   ]
  },
  {
   "cell_type": "code",
   "execution_count": 7,
   "id": "2c33039e",
   "metadata": {},
   "outputs": [
    {
     "name": "stdout",
     "output_type": "stream",
     "text": [
      "0.6666665077209473\n",
      "True\n",
      "True\n",
      "False\n"
     ]
    }
   ],
   "source": [
    "f = lambda x : (x - 1)*4 + x*2               \n",
    "                                                                                     \n",
    "the_user_value = find_root_bisection(f,0,4)    \n",
    "\n",
    "print(the_user_value)\n",
    "print(isinstance(the_user_value, float))\n",
    "print(the_user_value < 4.1)\n",
    "print(3.80 < the_user_value)"
   ]
  },
  {
   "cell_type": "code",
   "execution_count": null,
   "id": "f90b5a5b",
   "metadata": {},
   "outputs": [],
   "source": []
  }
 ],
 "metadata": {
  "kernelspec": {
   "display_name": "Python 3",
   "language": "python",
   "name": "python3"
  },
  "language_info": {
   "codemirror_mode": {
    "name": "ipython",
    "version": 3
   },
   "file_extension": ".py",
   "mimetype": "text/x-python",
   "name": "python",
   "nbconvert_exporter": "python",
   "pygments_lexer": "ipython3",
   "version": "3.6.7"
  }
 },
 "nbformat": 4,
 "nbformat_minor": 5
}
